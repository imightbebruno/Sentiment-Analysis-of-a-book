{
 "cells": [
  {
   "attachments": {},
   "cell_type": "markdown",
   "metadata": {},
   "source": [
    "Afinn Sentiment Analysis of Chapter IV of Leo Tolstoy's novel \"War and Peace\"\n",
    "\n",
    "Please check the Read Me file for more details "
   ]
  },
  {
   "cell_type": "code",
   "execution_count": 1,
   "metadata": {},
   "outputs": [],
   "source": [
    "from afinn import Afinn\n",
    "afinn = Afinn(language='en')"
   ]
  },
  {
   "cell_type": "code",
   "execution_count": 2,
   "metadata": {},
   "outputs": [],
   "source": [
    "#Sentiment Counts\n",
    "positive_count = 0\n",
    "negative_count = 0\n",
    "neutral_count = 0"
   ]
  },
  {
   "cell_type": "code",
   "execution_count": 3,
   "metadata": {},
   "outputs": [],
   "source": [
    "#Calculate the sentiment score of each line\n",
    "total_lines = 0\n",
    "with open('chapter.txt', 'r') as file:\n",
    "    for line in file:\n",
    "        score = afinn.score(line)\n",
    "        #Updtade the variables counts for each sentiment\n",
    "        if score > 0:\n",
    "            positive_count += 1\n",
    "        elif score < 0:\n",
    "            negative_count += 1\n",
    "        else:\n",
    "            neutral_count += 1\n",
    "        total_lines += 1"
   ]
  },
  {
   "cell_type": "code",
   "execution_count": 4,
   "metadata": {},
   "outputs": [
    {
     "name": "stdout",
     "output_type": "stream",
     "text": [
      "Positive Sentiment: 50.0 %\n",
      "Negative Sentiment: 19.696969696969695 %\n",
      "Neutral Sentiment: 30.303030303030305 %\n"
     ]
    }
   ],
   "source": [
    "#Calculate the percentages of each sentiment\n",
    "positive_percentage = (positive_count / total_lines) * 100\n",
    "negative_percentage = (negative_count / total_lines) * 100\n",
    "neutral_percentage = (neutral_count / total_lines) * 100\n",
    "\n",
    "print(\"Positive Sentiment:\", positive_percentage, \"%\")\n",
    "print(\"Negative Sentiment:\", negative_percentage, \"%\")\n",
    "print(\"Neutral Sentiment:\", neutral_percentage, \"%\")"
   ]
  },
  {
   "cell_type": "code",
   "execution_count": 5,
   "metadata": {},
   "outputs": [
    {
     "name": "stdout",
     "output_type": "stream",
     "text": [
      "The 5 most positive words:\n",
      "Word: rapturous,, Score: 4.0\n",
      "Word: handsome, Score: 3.0\n",
      "Word: pleased, Score: 3.0\n",
      "Word: charming, Score: 3.0\n",
      "Word: glad,, Score: 3.0\n"
     ]
    }
   ],
   "source": [
    "#Determine top 5 positive Words\n",
    "def get_top_5_positive_words(file_path):\n",
    "    with open(file_path, 'r') as file:\n",
    "        text = file.read()\n",
    "\n",
    "    word_scores = {}\n",
    "    for line in text.lower().split():\n",
    "        score = afinn.score(line)\n",
    "        if score > 0:\n",
    "            word_scores[line] = score\n",
    "\n",
    "    sorted_words = sorted(word_scores.items(), key=lambda item: item[1], reverse=True)\n",
    "    top_5_positive_words = sorted_words[:5]\n",
    "\n",
    "    return top_5_positive_words\n",
    "\n",
    "if __name__ == \"__main__\":\n",
    "    file_path = 'chapter.txt'\n",
    "    top_5_positive_words = get_top_5_positive_words(file_path)\n",
    "\n",
    "    print(\"The 5 most positive words:\")\n",
    "    for word, score in top_5_positive_words:\n",
    "        print(f\"Word: {word}, Score: {score}\")"
   ]
  },
  {
   "cell_type": "code",
   "execution_count": 6,
   "metadata": {},
   "outputs": [
    {
     "name": "stdout",
     "output_type": "stream",
     "text": [
      "Top 5 Sentences with Most Positive Score:\n",
      "Sentence: “My dear Anna Mikháylovna,” said he with his usual familiarity and weariness of tone, “it is almost impossible for me to do what you ask; but to prove my devotion to you and how I respect your father’s memory, I will  do the impossible—your son shall be transferred to the Guards. Here is my hand on it. Are you satisfied?”, - Sentiment Score: 8.0\n",
      "Sentence: “No, but do promise! I won’t let you go! My dear benefactor...”, - Sentiment Score: 7.0\n",
      "Sentence: Pierre, who from the moment Prince Andrew entered the room had watched him with glad, affectionate eyes, now came up and took his arm. , - Sentiment Score: 6.0\n",
      "Sentence: “My dear benefactor! This is what I expected from you—I knew your kindness!” He turned to go., - Sentiment Score: 6.0\n",
      "Sentence: “General Kutúzov,” said Bolkónski, speaking French and stressing the last syllable of the general’s name like a Frenchman, “has been pleased to take me as an aide-de-camp....”, - Sentiment Score: 5.0\n"
     ]
    }
   ],
   "source": [
    "#Determine top 5 positive Sentences\n",
    "def get_top_5_positive_sentences(file_path):\n",
    "    with open(file_path, 'r') as file:\n",
    "        text = file.read()\n",
    "\n",
    "    sentence_scores = {}\n",
    "    for sentence in text.split('\\n'):\n",
    "        score = afinn.score(sentence)\n",
    "        sentence_scores[sentence] = score\n",
    "\n",
    "    sorted_sentences = sorted(sentence_scores.items(), key=lambda item: item[1], reverse=True)\n",
    "    top_5_positive_sentences = sorted_sentences[:5]\n",
    "\n",
    "    return top_5_positive_sentences\n",
    "\n",
    "if __name__ == \"__main__\":\n",
    "    file_path = 'chapter.txt'\n",
    "    top_5_positive_sentences = get_top_5_positive_sentences(file_path)\n",
    "    print(\"Top 5 Sentences with Most Positive Score:\")\n",
    "    for sentence, score in top_5_positive_sentences:\n",
    "        print(f\"Sentence: {sentence}, - Sentiment Score: {score}\")\n"
   ]
  }
 ],
 "metadata": {
  "kernelspec": {
   "display_name": "base",
   "language": "python",
   "name": "python3"
  },
  "language_info": {
   "codemirror_mode": {
    "name": "ipython",
    "version": 3
   },
   "file_extension": ".py",
   "mimetype": "text/x-python",
   "name": "python",
   "nbconvert_exporter": "python",
   "pygments_lexer": "ipython3",
   "version": "3.11.5"
  },
  "orig_nbformat": 4
 },
 "nbformat": 4,
 "nbformat_minor": 2
}
