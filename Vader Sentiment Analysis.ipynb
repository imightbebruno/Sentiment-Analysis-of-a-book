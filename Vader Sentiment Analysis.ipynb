{
 "cells": [
  {
   "attachments": {},
   "cell_type": "markdown",
   "metadata": {},
   "source": [
    "Vader Sentiment Analysis of Chapter IV of Leo Tolstoy's novel \"War and Peace\"\n",
    "\n",
    "Please check the Read Me file for more details "
   ]
  },
  {
   "cell_type": "code",
   "execution_count": 1,
   "metadata": {},
   "outputs": [],
   "source": [
    "import nltk\n",
    "import heapq\n",
    "from nltk.sentiment.vader import SentimentIntensityAnalyzer\n",
    "from collections import Counter\n",
    "\n",
    "sia = SentimentIntensityAnalyzer()"
   ]
  },
  {
   "cell_type": "code",
   "execution_count": 2,
   "metadata": {},
   "outputs": [],
   "source": [
    "#Read the file\n",
    "file_path = \"chapter.txt\"  \n",
    "with open(file_path, 'r', encoding='utf-8') as file:\n",
    "    text = file.read()\n",
    "\n",
    "#Sentiment analysis \n",
    "sentiment_scores = sia.polarity_scores(text)"
   ]
  },
  {
   "cell_type": "code",
   "execution_count": 3,
   "metadata": {},
   "outputs": [
    {
     "name": "stdout",
     "output_type": "stream",
     "text": [
      "Sentiment scores for 'chapter.txt':\n",
      "Positive: 0.16\n",
      "Neutral: 0.777\n",
      "Negative: 0.064\n",
      "Compound: 0.9995\n"
     ]
    }
   ],
   "source": [
    "#Print the sentiment scores\n",
    "print(f\"Sentiment scores for '{file_path}':\")\n",
    "print(f\"Positive: {sentiment_scores['pos']}\")\n",
    "print(f\"Neutral: {sentiment_scores['neu']}\")\n",
    "print(f\"Negative: {sentiment_scores['neg']}\")\n",
    "print(f\"Compound: {sentiment_scores['compound']}\")"
   ]
  },
  {
   "cell_type": "code",
   "execution_count": 4,
   "metadata": {},
   "outputs": [],
   "source": [
    "#Tokenize the text into words\n",
    "words = nltk.word_tokenize(text)\n",
    "\n",
    "#Calculate sentiment scores for each word\n",
    "positive_words = {}\n",
    "for word in words:\n",
    "    score = sia.polarity_scores(word)['pos']\n",
    "    if score > 0:\n",
    "        positive_words[word] = score"
   ]
  },
  {
   "cell_type": "code",
   "execution_count": 5,
   "metadata": {},
   "outputs": [
    {
     "name": "stdout",
     "output_type": "stream",
     "text": [
      "The 5 most positive words:\n",
      "Word: handsome, Score: 1.0\n",
      "Word: pretty, Score: 1.0\n",
      "Word: kissed, Score: 1.0\n",
      "Word: hand, Score: 1.0\n",
      "Word: like, Score: 1.0\n"
     ]
    }
   ],
   "source": [
    "#Display the 5 most positive words\n",
    "most_positive_words = Counter(positive_words).most_common(5)\n",
    "\n",
    "print(\"The 5 most positive words:\")\n",
    "for word, score in most_positive_words:\n",
    "    print(f\"Word: {word}, Score: {score}\")"
   ]
  },
  {
   "cell_type": "code",
   "execution_count": 6,
   "metadata": {},
   "outputs": [],
   "source": [
    "#Punkt tokenizer for sentence tokenization\n",
    "tokenizer = nltk.data.load('tokenizers/punkt/english.pickle')\n",
    "sentences = tokenizer.tokenize(text)\n",
    "\n",
    "#Calculate score for each sentence\n",
    "sentence_scores = {}\n",
    "for i, sentence in enumerate(sentences):\n",
    "    sentence_scores[i] = sia.polarity_scores(sentence)['compound']"
   ]
  },
  {
   "cell_type": "code",
   "execution_count": 7,
   "metadata": {},
   "outputs": [
    {
     "name": "stdout",
     "output_type": "stream",
     "text": [
      "The 5 most positive sentences:\n",
      "Sentence 1: Before he looked round Prince Andrew frowned again, expressing his annoyance with whoever was touching his arm, but when he saw Pierre’s beaming face he gave him an unexpectedly kind and pleasant smile.\n",
      "Sentence 2: Nothing is so necessary for a young man as the society of clever women.”\n",
      "“Anna Pávlovna smiled and promised to take Pierre in hand.\n",
      "Sentence 3: “My dear Anna Mikháylovna,” said he with his usual familiarity and weariness of tone, “it is almost impossible for me to do what you ask; but to prove my devotion to you and how I respect your father’s memory, I will  do the impossible—your son shall be transferred to the Guards.\n",
      "Sentence 4: “General Kutúzov,” said Bolkónski, speaking French and stressing the last syllable of the general’s name like a Frenchman, “has been pleased to take me as an aide-de-camp....”\n",
      "“And Lise, your wife?”\n",
      "“She will go to the country.”\n",
      "“Are you not ashamed to deprive us of your charming wife?”\n",
      "“André,” said his wife, addressing her husband in the same coquettish manner in which she spoke to other men, “the vicomte has been telling us such a tale about Mademoiselle George and Buonaparte!”\n",
      "Prince Andrew screwed up his eyes and turned away.\n",
      "Sentence 5: His daughter, Princess Hélène, passed between the chairs, lightly holding up the folds of her dress, and the smile shone still more radiantly on her beautiful face.\n"
     ]
    }
   ],
   "source": [
    "#Get the 5 most positive sentences\n",
    "most_positive_sentences_indices = heapq.nlargest(5, sentence_scores, key=sentence_scores.get)\n",
    "most_positive_sentences = [sentences[index] for index in most_positive_sentences_indices]\n",
    "\n",
    "print(\"The 5 most positive sentences:\")\n",
    "for index, sentence in enumerate(most_positive_sentences, 1):\n",
    "    print(f\"Sentence {index}: {sentence}\")"
   ]
  }
 ],
 "metadata": {
  "kernelspec": {
   "display_name": "base",
   "language": "python",
   "name": "python3"
  },
  "language_info": {
   "codemirror_mode": {
    "name": "ipython",
    "version": 3
   },
   "file_extension": ".py",
   "mimetype": "text/x-python",
   "name": "python",
   "nbconvert_exporter": "python",
   "pygments_lexer": "ipython3",
   "version": "3.11.5"
  },
  "orig_nbformat": 4
 },
 "nbformat": 4,
 "nbformat_minor": 2
}
