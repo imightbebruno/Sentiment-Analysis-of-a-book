{
 "cells": [
  {
   "attachments": {},
   "cell_type": "markdown",
   "metadata": {},
   "source": [
    "SpaCy Textblob Sentiment Analysis of Chapter IV of Leo Tolstoy's novel \"War and Peace\"\n",
    "\n",
    "Please check the Read Me file for more details "
   ]
  },
  {
   "cell_type": "code",
   "execution_count": 1,
   "metadata": {},
   "outputs": [
    {
     "data": {
      "text/plain": [
       "<spacytextblob.spacytextblob.SpacyTextBlob at 0x14a47f5d0>"
      ]
     },
     "execution_count": 1,
     "metadata": {},
     "output_type": "execute_result"
    }
   ],
   "source": [
    "import spacy\n",
    "from spacytextblob.spacytextblob import SpacyTextBlob\n",
    "\n",
    "nlp = spacy.load(\"en_core_web_sm\")\n",
    "nlp.add_pipe('spacytextblob')"
   ]
  },
  {
   "cell_type": "code",
   "execution_count": 2,
   "metadata": {},
   "outputs": [],
   "source": [
    "# Read the file\n",
    "file_path = \"chapter.txt\"  \n",
    "with open(file_path, 'r', encoding='utf-8') as file:\n",
    "    text = file.read()\n",
    "\n",
    "# Process text \n",
    "doc = nlp(text)"
   ]
  },
  {
   "cell_type": "code",
   "execution_count": 3,
   "metadata": {},
   "outputs": [
    {
     "name": "stdout",
     "output_type": "stream",
     "text": [
      "Overall sentiment: 0.09001382876382878\n"
     ]
    }
   ],
   "source": [
    "# Calculate sentiment score\n",
    "sentence_sentiments = []\n",
    "for sentence in doc.sents:\n",
    "    sentence_sentiments.append(sentence._.polarity)\n",
    "\n",
    "# Calculate overall sentiment\n",
    "overall_sentiment = sum(sentence_sentiments) / len(sentence_sentiments)\n",
    "\n",
    "print(f\"Overall sentiment: {overall_sentiment}\")"
   ]
  },
  {
   "cell_type": "code",
   "execution_count": 4,
   "metadata": {},
   "outputs": [
    {
     "name": "stdout",
     "output_type": "stream",
     "text": [
      "Word: best, Sentiment Score: 1.0\n",
      "Word: beautiful, Sentiment Score: 0.85\n",
      "Word: great, Sentiment Score: 0.8\n",
      "Word: pleasant, Sentiment Score: 0.7333333333333333\n",
      "Word: charming, Sentiment Score: 0.7\n"
     ]
    }
   ],
   "source": [
    "#Sentiment Analysis of Words\n",
    "#Create an empty dicitonary to store word scores\n",
    "word_sentiments = {}\n",
    "\n",
    "for token in doc:\n",
    "    if token.is_alpha and not token.is_stop:\n",
    "        word_sentiments[token.text] = token._.polarity\n",
    "\n",
    "#Sort the words based on sentiment score\n",
    "sorted_words = sorted(word_sentiments.items(), key=lambda x: x[1], reverse=True)\n",
    "\n",
    "#Extract top 5 positive words\n",
    "top_positive_words = sorted_words[:5]\n",
    "\n",
    "#Print top 5 positive words\n",
    "for word, score in top_positive_words:\n",
    "    print(f\"Word: {word}, Sentiment Score: {score}\")\n"
   ]
  },
  {
   "cell_type": "code",
   "execution_count": 5,
   "metadata": {},
   "outputs": [
    {
     "name": "stdout",
     "output_type": "stream",
     "text": [
      "Top 5 Sentences with Most Positive Score:\n",
      "Sentence: That would be the best way.”, - Sentiment Score: 1.0\n",
      "Sentence: “You are “ on good terms with Michael Ilariónovich Kutúzov ... recommend Borís to him as adjutant!, - Sentiment Score: 0.875\n",
      "Sentence: So you, too, are in the great world?” said he to Pierre., - Sentiment Score: 0.8\n",
      "Sentence: “Very lovely,” said Prince Andrew., - Sentiment Score: 0.65\n",
      "Sentence: Are you satisfied?”\n",
      "“My dear benefactor!, - Sentiment Score: 0.625\n"
     ]
    }
   ],
   "source": [
    "#Sentiment Analysis of Sentences\n",
    "#Create a dictionary to store sentences scores\n",
    "sentence_sentiments = {}\n",
    "\n",
    "#Calcuate sentiment score for each sentence and store in the dicitonary\n",
    "for sentence in doc.sents:\n",
    "    sentiment_score = sentence._.polarity\n",
    "    sentence_sentiments[sentence.text] = sentiment_score\n",
    "\n",
    "#Sort the sentences based on sentiment score\n",
    "sorted_sentences = sorted(sentence_sentiments.items(), key=lambda x: x[1], reverse=True)\n",
    "\n",
    "#Extract the top 5 positive sentences\n",
    "top_positive_sentences = sorted_sentences[:5]\n",
    "\n",
    "#Print top 5 positive sentences\n",
    "print(\"Top 5 Sentences with Most Positive Score:\")\n",
    "for sentence, score in top_positive_sentences:\n",
    "    print(f\"Sentence: {sentence.strip()}, - Sentiment Score: {score}\")"
   ]
  }
 ],
 "metadata": {
  "kernelspec": {
   "display_name": "base",
   "language": "python",
   "name": "python3"
  },
  "language_info": {
   "codemirror_mode": {
    "name": "ipython",
    "version": 3
   },
   "file_extension": ".py",
   "mimetype": "text/x-python",
   "name": "python",
   "nbconvert_exporter": "python",
   "pygments_lexer": "ipython3",
   "version": "3.11.5"
  },
  "orig_nbformat": 4
 },
 "nbformat": 4,
 "nbformat_minor": 2
}
